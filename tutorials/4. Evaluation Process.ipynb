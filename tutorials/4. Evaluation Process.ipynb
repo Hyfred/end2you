{
 "cells": [
  {
   "cell_type": "markdown",
   "metadata": {},
   "source": [
    "## Evaluation Process "
   ]
  },
  {
   "cell_type": "code",
   "execution_count": null,
   "metadata": {},
   "outputs": [],
   "source": [
    "import numpy as np\n",
    "\n",
    "from pathlib import Path\n",
    "from end2you.evaluation_process import EvaluationProcess\n",
    "from end2you.utils import Params"
   ]
  },
  {
   "cell_type": "markdown",
   "metadata": {},
   "source": [
    "We use the class `Params` to elegantly define the parameters required for the evaluation process.\n",
    "The parameters for the evaluation process are the following:\n",
    "```\n",
    "- log_file: Path to save log file\n",
    "- metric      : Metric to use for evaluation. One of [`ccc`, `uar`, `mse`].\n",
    "- dataset_path: Path to evaluation .hdf5 files.\n",
    "- cuda        : Load data in cuda (should be same as in train).\n",
    "- num_workers : Number of workers to use to load data.\n",
    "- modality    : Modality to be used for. Values `audio`, `visual`, `audiovisual`.\n",
    "- root_dir    : Path to save the output files of end2you.\n",
    "- num_gpus    : Number of GPUs to use. Need to have more than one defined with `CUDA_VISIBLE_DEVICES`.\n",
    "- seq_length  : Number of consecutive frames to load per batch.\n",
    "- ckpt_path   : Path to checkpoint. Needs to be defined.\n",
    "- model       : The parameters of the model.\n",
    "    - num_outs: The number of outputs of the model.\n",
    "```\n",
    "\n",
    "Example:"
   ]
  },
  {
   "cell_type": "code",
   "execution_count": null,
   "metadata": {},
   "outputs": [],
   "source": [
    "params = Params(dict_params={\n",
    "    'metric': 'ccc',\n",
    "    'modality': 'audio',\n",
    "    'dataset_path':'/path',\n",
    "    'model_path':'/path/to/saved/model/last.pth.tar',\n",
    "    'cuda':False,\n",
    "    'num_gpus':1,\n",
    "    'root_dir':'.',\n",
    "    'seq_length': 150,\n",
    "    'num_workers':2,\n",
    "    'log_file': 'evaluation.log',\n",
    "    'model':Params(dict_params={'model_name':'audio', 'num_outs':3})\n",
    "})"
   ]
  },
  {
   "cell_type": "markdown",
   "metadata": {},
   "source": [
    "Defining the parameters we can now invoke the EvaluationProcess class and start the evaluation.\n",
    "For example"
   ]
  },
  {
   "cell_type": "code",
   "execution_count": null,
   "metadata": {},
   "outputs": [],
   "source": [
    "eval_process = EvaluationProcess(params)\n",
    "scores = eval_process.start()"
   ]
  },
  {
   "cell_type": "code",
   "execution_count": null,
   "metadata": {},
   "outputs": [],
   "source": []
  }
 ],
 "metadata": {
  "kernelspec": {
   "display_name": "pytorch",
   "language": "python",
   "name": "pytorch"
  },
  "language_info": {
   "codemirror_mode": {
    "name": "ipython",
    "version": 3
   },
   "file_extension": ".py",
   "mimetype": "text/x-python",
   "name": "python",
   "nbconvert_exporter": "python",
   "pygments_lexer": "ipython3",
   "version": "3.7.9"
  }
 },
 "nbformat": 4,
 "nbformat_minor": 4
}
