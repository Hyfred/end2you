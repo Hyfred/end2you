{
 "cells": [
  {
   "cell_type": "markdown",
   "metadata": {},
   "source": [
    "## Evaluation Process "
   ]
  },
  {
   "cell_type": "markdown",
   "metadata": {},
   "source": [
    "To evaluate a model using raw data, one needs to convert the data to the supported `hdf5` file format. Although the [Data Generation](1.%20Data%20Generation.ipynb) process requires labels, pseudo-labels can be inserted (e.g. use all zeros). The evaluation process will output \n",
    "* the scores for each label (you can ignore if you used pseudo-labels), and \n",
    "* the predictions for each file, which are also saved in `.json` format.\n",
    "\n",
    "Example follows"
   ]
  },
  {
   "cell_type": "code",
   "execution_count": null,
   "metadata": {},
   "outputs": [],
   "source": [
    "import numpy as np\n",
    "\n",
    "from pathlib import Path\n",
    "from end2you.evaluation_process import EvaluationProcess\n",
    "from end2you.utils import Params"
   ]
  },
  {
   "cell_type": "markdown",
   "metadata": {},
   "source": [
    "We use the class `Params` to elegantly define the parameters required for the evaluation process.\n",
    "The parameters for the evaluation process are the following:\n",
    "```\n",
    "- log_file: Path to save log file\n",
    "- metric      : Metric to use for evaluation. One of [`ccc`, `uar`, `mse`].\n",
    "- dataset_path: Path to evaluation .hdf5 files.\n",
    "- cuda        : Load data in cuda (should be same as in train).\n",
    "- num_workers : Number of workers to use to load data.\n",
    "- modality    : Modality to be used for. Values `audio`, `visual`, `audiovisual`.\n",
    "- root_dir    : Path to save the output files of end2you.\n",
    "- num_gpus    : Number of GPUs to use. Need to have more than one defined with `CUDA_VISIBLE_DEVICES`.\n",
    "- seq_length  : Number of consecutive frames to load per batch.\n",
    "- ckpt_path   : Path to checkpoint. Needs to be defined.\n",
    "- model       : The parameters of the model.\n",
    "- num_outs    : The number of outputs of the model.\n",
    "```\n",
    "\n",
    "Example:"
   ]
  },
  {
   "cell_type": "code",
   "execution_count": null,
   "metadata": {},
   "outputs": [],
   "source": [
    "params = Params(dict_params={\n",
    "    'metric': 'ccc',\n",
    "    'modality': 'audio',\n",
    "    'dataset_path':'/path',\n",
    "    'model_path':'/path/to/saved/model/last.pth.tar',\n",
    "    'cuda':False,\n",
    "    'num_gpus':1,\n",
    "    'root_dir':'.',\n",
    "    'seq_length': 150,\n",
    "    'num_workers':2,\n",
    "    'log_file': 'evaluation.log',\n",
    "    'model':Params(dict_params={'model_name':'emo18', 'num_outs':3})\n",
    "})"
   ]
  },
  {
   "cell_type": "markdown",
   "metadata": {},
   "source": [
    "Defining the parameters we can now invoke the EvaluationProcess class and start the evaluation.\n",
    "For example"
   ]
  },
  {
   "cell_type": "code",
   "execution_count": null,
   "metadata": {},
   "outputs": [],
   "source": [
    "eval_process = EvaluationProcess(params)\n",
    "scores, predictions = eval_process.start()"
   ]
  },
  {
   "cell_type": "markdown",
   "metadata": {},
   "source": [
    "`eval_process` saves the predictions of each file in the `root_dir/predictions.json` file and returns the following two dictionaries : \n",
    "    - `scores`     : contains as keys the labels and the values are the correspoding score\n",
    "                     (if pseudo-labels are used ignore this).\n",
    "    - `predictions`: contains as keys the names of the files and the values are the predictions of the model\n",
    "                     on each file. In addition, it contains a key named 'label_names' with the label names\n",
    "                     that are predicted.\n",
    "       E.g. {\n",
    "          'file1': np.array([[0.2, 0.1], [-0.1, 0.5], [0.3, 0.4]]),\n",
    "          'file2': np.array([[0.4, 0.3], [-0.5, 0.2], [0.1, -0.2]]),\n",
    "          ...\n",
    "          'label_names: array(['arousal', 'valence'])\n",
    "       }"
   ]
  },
  {
   "cell_type": "code",
   "execution_count": null,
   "metadata": {},
   "outputs": [],
   "source": []
  }
 ],
 "metadata": {
  "kernelspec": {
   "display_name": "pytorch",
   "language": "python",
   "name": "pytorch"
  },
  "language_info": {
   "codemirror_mode": {
    "name": "ipython",
    "version": 3
   },
   "file_extension": ".py",
   "mimetype": "text/x-python",
   "name": "python",
   "nbconvert_exporter": "python",
   "pygments_lexer": "ipython3",
   "version": "3.7.9"
  }
 },
 "nbformat": 4,
 "nbformat_minor": 4
}
