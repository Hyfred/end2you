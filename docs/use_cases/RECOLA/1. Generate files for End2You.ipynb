{
 "cells": [
  {
   "cell_type": "markdown",
   "metadata": {},
   "source": [
    "# Generate files for End2You"
   ]
  },
  {
   "cell_type": "markdown",
   "metadata": {},
   "source": [
    "Here we provide an example on how to generate the required label files and the `input_file.csv` for the RECOLA (used in AVEC 2016) database in order to run End2You.\n",
    "\n",
    "The AVEC2016 (RECOLA) folder is structured as follows:\n",
    "```\n",
    "AVEC2016\n",
    "|─── features_audio\n",
    "|─── features_video_appearance\n",
    "|─── features_video_geometric\n",
    "|─── ratings_gold_standard\n",
    "|   |─── arousal\n",
    "|   |   |─── train_1.arff\n",
    "|   |   |─── train_2.arff\n",
    "|   |   |─── ...\n",
    "|   |─── valence\n",
    "|   |   |─── train_1.arff\n",
    "|   |   |─── train_2.arff\n",
    "|   |   |─── ...\n",
    "|─── ratings_individual\n",
    "|─── ratings_individual_centred\n",
    "|─── recordings_audio\n",
    "|   |─── train_1.wav\n",
    "|   |─── train_2.wav\n",
    "|   |─── ...\n",
    "|─── recordings_video\n",
    "|   |─── train_1.mp4\n",
    "|   |─── train_2.mp4\n",
    "|   |─── ...\n",
    "```"
   ]
  },
  {
   "cell_type": "markdown",
   "metadata": {},
   "source": [
    "## Set Paths"
   ]
  },
  {
   "cell_type": "code",
   "execution_count": null,
   "metadata": {},
   "outputs": [],
   "source": [
    "import numpy as np\n",
    "from pathlib import Path\n",
    "\n",
    "root_dir = Path('/path/to/AVEC2016/')\n",
    "\n",
    "audio_dir = root_dir / 'recordings_audio'\n",
    "video_dir = root_dir / 'recordings_video'\n",
    "ratings = root_dir / 'ratings_gold_standard'\n",
    "\n",
    "arousal_path = ratings / 'arousal'\n",
    "valence_path = ratings / 'valence'"
   ]
  },
  {
   "cell_type": "code",
   "execution_count": null,
   "metadata": {},
   "outputs": [],
   "source": [
    "modality = 'video'\n",
    "ext = 'mp4' if modality == 'video' else 'wav'"
   ]
  },
  {
   "cell_type": "markdown",
   "metadata": {},
   "source": [
    "### Read ARFF files"
   ]
  },
  {
   "cell_type": "code",
   "execution_count": null,
   "metadata": {},
   "outputs": [],
   "source": [
    "import arff\n",
    "\n",
    "def _get_data(arff_path):\n",
    "    raw_data = arff.load(arff_path)\n",
    "    data, timestamp = [], []\n",
    "    for x in list(raw_data)[1:]:\n",
    "        data.append(x.GoldStandard)\n",
    "        timestamp.append(x.frameTime)\n",
    "    \n",
    "    timestamp = np.array(timestamp).reshape(-1,1)\n",
    "    data = np.array(data).reshape(-1,1)\n",
    "    \n",
    "    return timestamp.astype(np.float32), data.astype(np.float32)"
   ]
  },
  {
   "cell_type": "markdown",
   "metadata": {},
   "source": [
    "## Create label files for End2You"
   ]
  },
  {
   "cell_type": "code",
   "execution_count": null,
   "metadata": {},
   "outputs": [],
   "source": [
    "save_label_files = Path('/path/to/save/label/files')"
   ]
  },
  {
   "cell_type": "code",
   "execution_count": null,
   "metadata": {},
   "outputs": [],
   "source": [
    "for video_file in video_dir.glob('*.mp4'):\n",
    "    video_file_name = video_file.name[:-4] \n",
    "    if 'test' in video_file_name:\n",
    "        continue\n",
    "    \n",
    "    arousal_label_path = arousal_path / (video_file_name + '.arff')\n",
    "    valence_label_path = valence_path / (video_file_name + '.arff')\n",
    "    \n",
    "    timestamp, arousal_ratings = _get_data(str(arousal_label_path))\n",
    "    timestamp, valence_ratings = _get_data(str(valence_label_path))\n",
    "    \n",
    "    data = np.hstack([timestamp, arousal_ratings, valence_ratings])\n",
    "    label_file = save_label_files / (video_file.name[:-4] + '.csv')\n",
    "    \n",
    "    np.savetxt(str(label_file), data, header='timestamp,arousal,valence', fmt='%f', delimiter=',')"
   ]
  },
  {
   "cell_type": "markdown",
   "metadata": {},
   "source": [
    "## Write `input_file.csv`"
   ]
  },
  {
   "cell_type": "code",
   "execution_count": null,
   "metadata": {},
   "outputs": [],
   "source": [
    "files = []\n",
    "for video_file in video_dir.glob('*.mp4'):\n",
    "    if 'test' in video_file.name[:-4]:\n",
    "        continue\n",
    "\n",
    "    label_file= str(label_file)  / (video_file.name[:-4] + '.csv')\n",
    "    files.append([str(video_file), str(label_file)])"
   ]
  },
  {
   "cell_type": "code",
   "execution_count": null,
   "metadata": {},
   "outputs": [],
   "source": [
    "save_inp_file = Path('/path/to/save/input_file.csv') "
   ]
  },
  {
   "cell_type": "code",
   "execution_count": null,
   "metadata": {},
   "outputs": [],
   "source": [
    "np.savetxt(str(save_inp_file), files, header='file,label_file', fmt='%s', delimiter=',')"
   ]
  }
 ],
 "metadata": {
  "kernelspec": {
   "display_name": "Python 3",
   "language": "python",
   "name": "python3"
  },
  "language_info": {
   "codemirror_mode": {
    "name": "ipython",
    "version": 3
   },
   "file_extension": ".py",
   "mimetype": "text/x-python",
   "name": "python",
   "nbconvert_exporter": "python",
   "pygments_lexer": "ipython3",
   "version": "3.8.3"
  }
 },
 "nbformat": 4,
 "nbformat_minor": 4
}
