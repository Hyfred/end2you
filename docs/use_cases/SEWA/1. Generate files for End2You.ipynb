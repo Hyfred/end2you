{
 "cells": [
  {
   "cell_type": "markdown",
   "metadata": {},
   "source": [
    "# Generate files for End2You"
   ]
  },
  {
   "cell_type": "markdown",
   "metadata": {},
   "source": [
    "Here we provide an example on how to generate the required label files and the `input_file.csv` for the SEWA (used in AVEC 2017) database in order to run End2You.\n",
    "\n",
    "The AVEC2017 (SEWA) folder is structured as follows:\n",
    "```\n",
    "AVEC2017\n",
    "|─── transcriptions\n",
    "|─── turns\n",
    "|─── emotion_baseline_scripts\n",
    "|─── labels\n",
    "|   |─── Devel_01.csv\n",
    "|   |─── Train_01.csv\n",
    "|   |─── Devel_02.csv\n",
    "|   |─── ...\n",
    "|─── audio\n",
    "|   |─── Train_1.wav\n",
    "|   |─── Train_2.wav\n",
    "|   |─── ...\n",
    "|─── video\n",
    "|   |─── Train_1.avi\n",
    "|   |─── Train_2.avi\n",
    "|   |─── ...\n",
    "|─── ....\n",
    "```"
   ]
  },
  {
   "cell_type": "markdown",
   "metadata": {},
   "source": [
    "## Set Paths"
   ]
  },
  {
   "cell_type": "code",
   "execution_count": null,
   "metadata": {},
   "outputs": [],
   "source": [
    "import numpy as np\n",
    "from pathlib import Path\n",
    "\n",
    "root_dir = Path('/vol/phoebe/pt511/db/AVEC/data_folder/raw_data/AVEC2017_SEWA')\n",
    "\n",
    "audio_dir = root_dir / 'audio'\n",
    "video_dir = root_dir / 'video'\n",
    "ratings = root_dir / 'labels'"
   ]
  },
  {
   "cell_type": "code",
   "execution_count": null,
   "metadata": {},
   "outputs": [],
   "source": [
    "modality = 'audio'\n",
    "ext = 'avi' if modality == 'video' else 'wav'\n",
    "modality_dir = video_dir if modality =='video' else audio_dir"
   ]
  },
  {
   "cell_type": "markdown",
   "metadata": {},
   "source": [
    "## Write `input_file.csv`"
   ]
  },
  {
   "cell_type": "code",
   "execution_count": null,
   "metadata": {},
   "outputs": [],
   "source": [
    "files = []\n",
    "for mod_file in modality_dir.glob(f'*.{ext}'):\n",
    "    if 'test' in mod_file.name[:-4]:\n",
    "        continue\n",
    "    \n",
    "    label_file = str(ratings / (mod_file.name[:-4] + '.csv'))\n",
    "    files.append([str(mod_file), str(label_file)])"
   ]
  },
  {
   "cell_type": "code",
   "execution_count": null,
   "metadata": {},
   "outputs": [],
   "source": [
    "save_inp_file = '/vol/deform/pt511/db/end2you/sewa/input_file.csv'"
   ]
  },
  {
   "cell_type": "code",
   "execution_count": null,
   "metadata": {},
   "outputs": [],
   "source": [
    "np.savetxt(str(save_inp_file), np.array(files), header='file,label_file', fmt='%s', delimiter=',')"
   ]
  },
  {
   "cell_type": "code",
   "execution_count": null,
   "metadata": {},
   "outputs": [],
   "source": []
  }
 ],
 "metadata": {
  "kernelspec": {
   "display_name": "Python 3",
   "language": "python",
   "name": "python3"
  },
  "language_info": {
   "codemirror_mode": {
    "name": "ipython",
    "version": 3
   },
   "file_extension": ".py",
   "mimetype": "text/x-python",
   "name": "python",
   "nbconvert_exporter": "python",
   "pygments_lexer": "ipython3",
   "version": "3.8.3"
  }
 },
 "nbformat": 4,
 "nbformat_minor": 4
}
